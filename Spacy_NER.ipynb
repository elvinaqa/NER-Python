{
  "nbformat": 4,
  "nbformat_minor": 0,
  "metadata": {
    "kernelspec": {
      "display_name": "Python 3",
      "language": "python",
      "name": "python3"
    },
    "language_info": {
      "codemirror_mode": {
        "name": "ipython",
        "version": 3
      },
      "file_extension": ".py",
      "mimetype": "text/x-python",
      "name": "python",
      "nbconvert_exporter": "python",
      "pygments_lexer": "ipython3",
      "version": "3.7.4"
    },
    "colab": {
      "name": "Spacy NER.ipynb",
      "provenance": [],
      "collapsed_sections": [],
      "include_colab_link": true
    }
  },
  "cells": [
    {
      "cell_type": "markdown",
      "metadata": {
        "id": "view-in-github",
        "colab_type": "text"
      },
      "source": [
        "<a href=\"https://colab.research.google.com/github/elvinaqa/NER-Python/blob/main/Spacy_NER.ipynb\" target=\"_parent\"><img src=\"https://colab.research.google.com/assets/colab-badge.svg\" alt=\"Open In Colab\"/></a>"
      ]
    },
    {
      "cell_type": "markdown",
      "metadata": {
        "id": "BUUSOpLbBZmK"
      },
      "source": [
        "## Load Packages"
      ]
    },
    {
      "cell_type": "code",
      "metadata": {
        "id": "Qn7E_qd7BZmS"
      },
      "source": [
        "from __future__ import unicode_literals, print_function\n",
        "import plac\n",
        "import random\n",
        "from pathlib import Path\n",
        "import spacy\n",
        "from tqdm import tqdm "
      ],
      "execution_count": 3,
      "outputs": []
    },
    {
      "cell_type": "code",
      "metadata": {
        "id": "J6xlH-SMBv2s"
      },
      "source": [
        "import en_core_web_sm\n",
        "nlp1 = en_core_web_sm.load()"
      ],
      "execution_count": 5,
      "outputs": []
    },
    {
      "cell_type": "code",
      "metadata": {
        "id": "AnRkpqruBZmX"
      },
      "source": [
        "# nlp1 = spacy.load('en_core_web_lg')"
      ],
      "execution_count": 6,
      "outputs": []
    },
    {
      "cell_type": "markdown",
      "metadata": {
        "id": "lV3_naMtBZma"
      },
      "source": [
        "## Working of NER"
      ]
    },
    {
      "cell_type": "code",
      "metadata": {
        "id": "Txbmn0mLBZma"
      },
      "source": [
        "docx1 = nlp1(u\"Where is Apple?\")"
      ],
      "execution_count": 19,
      "outputs": []
    },
    {
      "cell_type": "code",
      "metadata": {
        "id": "btohpcCGBZmd",
        "outputId": "b3f445ce-931d-487f-bde6-f554e85aca1c",
        "colab": {
          "base_uri": "https://localhost:8080/"
        }
      },
      "source": [
        "for token in docx1.ents:\n",
        "    print(token.text,token.start_char, token.end_char,token.label_)"
      ],
      "execution_count": 20,
      "outputs": [
        {
          "output_type": "stream",
          "text": [
            "Apple 9 14 ORG\n"
          ],
          "name": "stdout"
        }
      ]
    },
    {
      "cell_type": "code",
      "metadata": {
        "id": "PadJvhUuBZmj"
      },
      "source": [
        "docx2 = nlp1(u\"Who is Tim Cook?\")"
      ],
      "execution_count": 21,
      "outputs": []
    },
    {
      "cell_type": "code",
      "metadata": {
        "id": "ooAYmQfPBZmm",
        "outputId": "0bfd23cd-1767-4d08-c733-e950ab3f2440",
        "colab": {
          "base_uri": "https://localhost:8080/"
        }
      },
      "source": [
        "for token in docx2.ents:\n",
        "    print(token.text,token.start_char, token.end_char,token.label_)"
      ],
      "execution_count": 22,
      "outputs": [
        {
          "output_type": "stream",
          "text": [
            "Tim Cook 7 15 PERSON\n"
          ],
          "name": "stdout"
        }
      ]
    },
    {
      "cell_type": "markdown",
      "metadata": {
        "id": "vnXYXiznBZmp"
      },
      "source": [
        "## Train Data"
      ]
    },
    {
      "cell_type": "code",
      "metadata": {
        "id": "QxVZaXIfBZmp"
      },
      "source": [
        "TRAIN_DATA = [\n",
        "    ('Who is Tim Cook?', {\n",
        "        'entities': [(7, 15, 'PERSON')]\n",
        "    }),\n",
        "     ('Who is Elvin Aghammad?', {\n",
        "        'entities': [(7, 21, 'PERSON')]\n",
        "    }),\n",
        "    ('I like London and Berlin.', {\n",
        "        'entities': [(7, 13, 'LOC'), (18, 24, 'LOC')]\n",
        "    })\n",
        "]"
      ],
      "execution_count": 23,
      "outputs": []
    },
    {
      "cell_type": "markdown",
      "metadata": {
        "id": "bFUN0o-qBZms"
      },
      "source": [
        "## Define our variables"
      ]
    },
    {
      "cell_type": "code",
      "metadata": {
        "id": "k0HVuNzyBZmt"
      },
      "source": [
        "model = None\n",
        "output_dir=Path(\"C:\\\\Users\\\\nithi\\\\Documents\\\\ner\")\n",
        "n_iter=100"
      ],
      "execution_count": 24,
      "outputs": []
    },
    {
      "cell_type": "markdown",
      "metadata": {
        "id": "HeKFNt6rBZmz"
      },
      "source": [
        "## Load the model"
      ]
    },
    {
      "cell_type": "code",
      "metadata": {
        "id": "osoRGD5CBZm0",
        "outputId": "576b5459-210b-4596-a194-4fbfd4f42c51",
        "colab": {
          "base_uri": "https://localhost:8080/"
        }
      },
      "source": [
        "if model is not None:\n",
        "    nlp = spacy.load(model)  \n",
        "    print(\"Loaded model '%s'\" % model)\n",
        "else:\n",
        "    nlp = spacy.blank('en')  \n",
        "    print(\"Created blank 'en' model\")"
      ],
      "execution_count": 25,
      "outputs": [
        {
          "output_type": "stream",
          "text": [
            "Created blank 'en' model\n"
          ],
          "name": "stdout"
        }
      ]
    },
    {
      "cell_type": "markdown",
      "metadata": {
        "id": "cXg0RbNBBZm2"
      },
      "source": [
        "## Set up the pipeline"
      ]
    },
    {
      "cell_type": "code",
      "metadata": {
        "id": "1iSOH_hJBZm3"
      },
      "source": [
        "if 'ner' not in nlp.pipe_names:\n",
        "    ner = nlp.create_pipe('ner')\n",
        "    nlp.add_pipe(ner, last=True)\n",
        "else:\n",
        "    ner = nlp.get_pipe('ner')"
      ],
      "execution_count": 26,
      "outputs": []
    },
    {
      "cell_type": "markdown",
      "metadata": {
        "id": "0H-tl2jOBZm5"
      },
      "source": [
        "## Train the Recognizer"
      ]
    },
    {
      "cell_type": "code",
      "metadata": {
        "id": "kWqnMMrOBZm5",
        "outputId": "2b3e3730-8874-4d75-cb87-d18e64f1f773",
        "colab": {
          "base_uri": "https://localhost:8080/"
        }
      },
      "source": [
        "for _, annotations in TRAIN_DATA:\n",
        "    for ent in annotations.get('entities'):\n",
        "        ner.add_label(ent[2])\n",
        "\n",
        "other_pipes = [pipe for pipe in nlp.pipe_names if pipe != 'ner']\n",
        "with nlp.disable_pipes(*other_pipes):  # only train NER\n",
        "    optimizer = nlp.begin_training()\n",
        "    for itn in range(n_iter):\n",
        "        random.shuffle(TRAIN_DATA)\n",
        "        losses = {}\n",
        "        for text, annotations in tqdm(TRAIN_DATA):\n",
        "            nlp.update(\n",
        "                [text],  \n",
        "                [annotations],  \n",
        "                drop=0.5,  \n",
        "                sgd=optimizer,\n",
        "                losses=losses)\n",
        "        print(losses)"
      ],
      "execution_count": 27,
      "outputs": [
        {
          "output_type": "stream",
          "text": [
            "100%|██████████| 3/3 [00:00<00:00, 27.41it/s]\n",
            "100%|██████████| 3/3 [00:00<00:00, 33.54it/s]\n",
            "100%|██████████| 3/3 [00:00<00:00, 35.65it/s]\n",
            "  0%|          | 0/3 [00:00<?, ?it/s]"
          ],
          "name": "stderr"
        },
        {
          "output_type": "stream",
          "text": [
            "{'ner': 13.22383338212967}\n",
            "{'ner': 13.243457615375519}\n",
            "{'ner': 11.741348505020142}\n"
          ],
          "name": "stdout"
        },
        {
          "output_type": "stream",
          "text": [
            "100%|██████████| 3/3 [00:00<00:00, 35.16it/s]\n",
            "100%|██████████| 3/3 [00:00<00:00, 36.36it/s]\n",
            "100%|██████████| 3/3 [00:00<00:00, 36.66it/s]\n",
            "  0%|          | 0/3 [00:00<?, ?it/s]"
          ],
          "name": "stderr"
        },
        {
          "output_type": "stream",
          "text": [
            "{'ner': 10.410413801670074}\n",
            "{'ner': 8.14183023571968}\n",
            "{'ner': 7.373452980071306}\n"
          ],
          "name": "stdout"
        },
        {
          "output_type": "stream",
          "text": [
            "100%|██████████| 3/3 [00:00<00:00, 35.29it/s]\n",
            "100%|██████████| 3/3 [00:00<00:00, 35.11it/s]\n",
            "100%|██████████| 3/3 [00:00<00:00, 35.53it/s]\n",
            "  0%|          | 0/3 [00:00<?, ?it/s]"
          ],
          "name": "stderr"
        },
        {
          "output_type": "stream",
          "text": [
            "{'ner': 5.832124270964414}\n",
            "{'ner': 7.013361018151045}\n",
            "{'ner': 7.029564581927843}\n"
          ],
          "name": "stdout"
        },
        {
          "output_type": "stream",
          "text": [
            "100%|██████████| 3/3 [00:00<00:00, 34.16it/s]\n",
            "100%|██████████| 3/3 [00:00<00:00, 36.10it/s]\n",
            "100%|██████████| 3/3 [00:00<00:00, 33.86it/s]\n",
            "  0%|          | 0/3 [00:00<?, ?it/s]"
          ],
          "name": "stderr"
        },
        {
          "output_type": "stream",
          "text": [
            "{'ner': 6.290621590451337}\n",
            "{'ner': 5.398109335321351}\n",
            "{'ner': 6.387756956319208}\n"
          ],
          "name": "stdout"
        },
        {
          "output_type": "stream",
          "text": [
            "100%|██████████| 3/3 [00:00<00:00, 31.99it/s]\n",
            "100%|██████████| 3/3 [00:00<00:00, 35.50it/s]\n",
            "100%|██████████| 3/3 [00:00<00:00, 35.75it/s]\n",
            "  0%|          | 0/3 [00:00<?, ?it/s]"
          ],
          "name": "stderr"
        },
        {
          "output_type": "stream",
          "text": [
            "{'ner': 5.676897504832596}\n",
            "{'ner': 5.694663970032707}\n",
            "{'ner': 5.563373059849255}\n"
          ],
          "name": "stdout"
        },
        {
          "output_type": "stream",
          "text": [
            "100%|██████████| 3/3 [00:00<00:00, 32.99it/s]\n",
            "100%|██████████| 3/3 [00:00<00:00, 36.29it/s]\n",
            "100%|██████████| 3/3 [00:00<00:00, 36.32it/s]\n",
            "  0%|          | 0/3 [00:00<?, ?it/s]"
          ],
          "name": "stderr"
        },
        {
          "output_type": "stream",
          "text": [
            "{'ner': 7.822900665225461}\n",
            "{'ner': 5.7569833705201745}\n",
            "{'ner': 6.650798753835261}\n"
          ],
          "name": "stdout"
        },
        {
          "output_type": "stream",
          "text": [
            "100%|██████████| 3/3 [00:00<00:00, 35.07it/s]\n",
            "100%|██████████| 3/3 [00:00<00:00, 36.56it/s]\n",
            "100%|██████████| 3/3 [00:00<00:00, 34.33it/s]\n",
            "  0%|          | 0/3 [00:00<?, ?it/s]"
          ],
          "name": "stderr"
        },
        {
          "output_type": "stream",
          "text": [
            "{'ner': 4.471342464792542}\n",
            "{'ner': 6.051193244406022}\n",
            "{'ner': 4.1085591328155715}\n"
          ],
          "name": "stdout"
        },
        {
          "output_type": "stream",
          "text": [
            "100%|██████████| 3/3 [00:00<00:00, 34.73it/s]\n",
            "100%|██████████| 3/3 [00:00<00:00, 35.09it/s]\n",
            "100%|██████████| 3/3 [00:00<00:00, 35.66it/s]\n",
            "  0%|          | 0/3 [00:00<?, ?it/s]"
          ],
          "name": "stderr"
        },
        {
          "output_type": "stream",
          "text": [
            "{'ner': 3.6497093991292786}\n",
            "{'ner': 2.765557823279323}\n",
            "{'ner': 1.8129306382056711}\n"
          ],
          "name": "stdout"
        },
        {
          "output_type": "stream",
          "text": [
            "100%|██████████| 3/3 [00:00<00:00, 35.17it/s]\n",
            "100%|██████████| 3/3 [00:00<00:00, 35.70it/s]\n",
            "100%|██████████| 3/3 [00:00<00:00, 36.75it/s]\n",
            "  0%|          | 0/3 [00:00<?, ?it/s]"
          ],
          "name": "stderr"
        },
        {
          "output_type": "stream",
          "text": [
            "{'ner': 3.064614453267069}\n",
            "{'ner': 4.972680451333872}\n",
            "{'ner': 3.767554746091264}\n"
          ],
          "name": "stdout"
        },
        {
          "output_type": "stream",
          "text": [
            "100%|██████████| 3/3 [00:00<00:00, 35.30it/s]\n",
            "100%|██████████| 3/3 [00:00<00:00, 36.69it/s]\n",
            "100%|██████████| 3/3 [00:00<00:00, 36.54it/s]\n",
            "  0%|          | 0/3 [00:00<?, ?it/s]"
          ],
          "name": "stderr"
        },
        {
          "output_type": "stream",
          "text": [
            "{'ner': 3.4372659660416502}\n",
            "{'ner': 0.47808768992399564}\n",
            "{'ner': 3.1008967197257036}\n"
          ],
          "name": "stdout"
        },
        {
          "output_type": "stream",
          "text": [
            "100%|██████████| 3/3 [00:00<00:00, 34.80it/s]\n",
            "100%|██████████| 3/3 [00:00<00:00, 34.82it/s]\n",
            "100%|██████████| 3/3 [00:00<00:00, 35.86it/s]\n",
            "  0%|          | 0/3 [00:00<?, ?it/s]"
          ],
          "name": "stderr"
        },
        {
          "output_type": "stream",
          "text": [
            "{'ner': 0.7672298250523237}\n",
            "{'ner': 0.32648245295512446}\n",
            "{'ner': 0.10079726603566153}\n"
          ],
          "name": "stdout"
        },
        {
          "output_type": "stream",
          "text": [
            "100%|██████████| 3/3 [00:00<00:00, 35.61it/s]\n",
            "100%|██████████| 3/3 [00:00<00:00, 34.99it/s]\n",
            "100%|██████████| 3/3 [00:00<00:00, 34.49it/s]\n",
            "  0%|          | 0/3 [00:00<?, ?it/s]"
          ],
          "name": "stderr"
        },
        {
          "output_type": "stream",
          "text": [
            "{'ner': 0.09276199345330713}\n",
            "{'ner': 0.0069278366984825215}\n",
            "{'ner': 0.3727662818854379}\n"
          ],
          "name": "stdout"
        },
        {
          "output_type": "stream",
          "text": [
            "100%|██████████| 3/3 [00:00<00:00, 34.36it/s]\n",
            "100%|██████████| 3/3 [00:00<00:00, 36.11it/s]\n",
            "100%|██████████| 3/3 [00:00<00:00, 35.54it/s]\n",
            "  0%|          | 0/3 [00:00<?, ?it/s]"
          ],
          "name": "stderr"
        },
        {
          "output_type": "stream",
          "text": [
            "{'ner': 0.03208789693805732}\n",
            "{'ner': 0.013212232449870074}\n",
            "{'ner': 0.007757397898805441}\n"
          ],
          "name": "stdout"
        },
        {
          "output_type": "stream",
          "text": [
            "100%|██████████| 3/3 [00:00<00:00, 34.98it/s]\n",
            "100%|██████████| 3/3 [00:00<00:00, 35.94it/s]\n",
            "100%|██████████| 3/3 [00:00<00:00, 37.18it/s]\n",
            "  0%|          | 0/3 [00:00<?, ?it/s]"
          ],
          "name": "stderr"
        },
        {
          "output_type": "stream",
          "text": [
            "{'ner': 3.137446918900503e-05}\n",
            "{'ner': 0.0003485751696065069}\n",
            "{'ner': 0.007949100729844366}\n"
          ],
          "name": "stdout"
        },
        {
          "output_type": "stream",
          "text": [
            "100%|██████████| 3/3 [00:00<00:00, 36.04it/s]\n",
            "100%|██████████| 3/3 [00:00<00:00, 37.67it/s]\n",
            "100%|██████████| 3/3 [00:00<00:00, 36.70it/s]\n",
            "  0%|          | 0/3 [00:00<?, ?it/s]"
          ],
          "name": "stderr"
        },
        {
          "output_type": "stream",
          "text": [
            "{'ner': 0.0008251407004387062}\n",
            "{'ner': 0.06612408193759371}\n",
            "{'ner': 8.950840984179218e-06}\n"
          ],
          "name": "stdout"
        },
        {
          "output_type": "stream",
          "text": [
            "100%|██████████| 3/3 [00:00<00:00, 31.24it/s]\n",
            "100%|██████████| 3/3 [00:00<00:00, 35.54it/s]\n",
            "100%|██████████| 3/3 [00:00<00:00, 35.74it/s]\n",
            "  0%|          | 0/3 [00:00<?, ?it/s]"
          ],
          "name": "stderr"
        },
        {
          "output_type": "stream",
          "text": [
            "{'ner': 9.183361913670641e-05}\n",
            "{'ner': 0.00021619653076292026}\n",
            "{'ner': 4.695131823447027e-06}\n"
          ],
          "name": "stdout"
        },
        {
          "output_type": "stream",
          "text": [
            "100%|██████████| 3/3 [00:00<00:00, 35.01it/s]\n",
            "100%|██████████| 3/3 [00:00<00:00, 36.73it/s]\n",
            "100%|██████████| 3/3 [00:00<00:00, 34.10it/s]\n",
            "  0%|          | 0/3 [00:00<?, ?it/s]"
          ],
          "name": "stderr"
        },
        {
          "output_type": "stream",
          "text": [
            "{'ner': 2.2045538468927345e-05}\n",
            "{'ner': 2.3124817965732813e-05}\n",
            "{'ner': 3.5946712189959194e-06}\n"
          ],
          "name": "stdout"
        },
        {
          "output_type": "stream",
          "text": [
            "100%|██████████| 3/3 [00:00<00:00, 36.67it/s]\n",
            "100%|██████████| 3/3 [00:00<00:00, 36.95it/s]\n",
            "100%|██████████| 3/3 [00:00<00:00, 36.65it/s]\n",
            "  0%|          | 0/3 [00:00<?, ?it/s]"
          ],
          "name": "stderr"
        },
        {
          "output_type": "stream",
          "text": [
            "{'ner': 5.128765298689484e-05}\n",
            "{'ner': 0.00023167721107166436}\n",
            "{'ner': 4.169207171929684e-06}\n"
          ],
          "name": "stdout"
        },
        {
          "output_type": "stream",
          "text": [
            "100%|██████████| 3/3 [00:00<00:00, 35.85it/s]\n",
            "100%|██████████| 3/3 [00:00<00:00, 36.62it/s]\n",
            "100%|██████████| 3/3 [00:00<00:00, 36.22it/s]\n",
            "  0%|          | 0/3 [00:00<?, ?it/s]"
          ],
          "name": "stderr"
        },
        {
          "output_type": "stream",
          "text": [
            "{'ner': 2.396959296741892e-05}\n",
            "{'ner': 3.8951049167531066e-07}\n",
            "{'ner': 1.4158111531110093e-05}\n"
          ],
          "name": "stdout"
        },
        {
          "output_type": "stream",
          "text": [
            "100%|██████████| 3/3 [00:00<00:00, 34.92it/s]\n",
            "100%|██████████| 3/3 [00:00<00:00, 35.33it/s]\n",
            "100%|██████████| 3/3 [00:00<00:00, 36.13it/s]\n",
            "  0%|          | 0/3 [00:00<?, ?it/s]"
          ],
          "name": "stderr"
        },
        {
          "output_type": "stream",
          "text": [
            "{'ner': 0.0007148397448347101}\n",
            "{'ner': 2.17523053880507e-07}\n",
            "{'ner': 5.983276256687924e-06}\n"
          ],
          "name": "stdout"
        },
        {
          "output_type": "stream",
          "text": [
            "100%|██████████| 3/3 [00:00<00:00, 35.86it/s]\n",
            "100%|██████████| 3/3 [00:00<00:00, 36.48it/s]\n",
            "100%|██████████| 3/3 [00:00<00:00, 36.98it/s]\n",
            "  0%|          | 0/3 [00:00<?, ?it/s]"
          ],
          "name": "stderr"
        },
        {
          "output_type": "stream",
          "text": [
            "{'ner': 5.501351727145792e-07}\n",
            "{'ner': 4.5704821581088584e-05}\n",
            "{'ner': 3.4300925892040745e-06}\n"
          ],
          "name": "stdout"
        },
        {
          "output_type": "stream",
          "text": [
            "100%|██████████| 3/3 [00:00<00:00, 33.29it/s]\n",
            "100%|██████████| 3/3 [00:00<00:00, 36.19it/s]\n",
            "100%|██████████| 3/3 [00:00<00:00, 35.81it/s]\n",
            "  0%|          | 0/3 [00:00<?, ?it/s]"
          ],
          "name": "stderr"
        },
        {
          "output_type": "stream",
          "text": [
            "{'ner': 1.8607641454811188e-06}\n",
            "{'ner': 1.2733078872951892e-06}\n",
            "{'ner': 7.33987205504303e-08}\n"
          ],
          "name": "stdout"
        },
        {
          "output_type": "stream",
          "text": [
            "100%|██████████| 3/3 [00:00<00:00, 33.86it/s]\n",
            "100%|██████████| 3/3 [00:00<00:00, 36.07it/s]\n",
            "100%|██████████| 3/3 [00:00<00:00, 33.85it/s]\n",
            "  0%|          | 0/3 [00:00<?, ?it/s]"
          ],
          "name": "stderr"
        },
        {
          "output_type": "stream",
          "text": [
            "{'ner': 1.3317494185323342e-06}\n",
            "{'ner': 1.7702680521644059e-09}\n",
            "{'ner': 6.830329837548008e-06}\n"
          ],
          "name": "stdout"
        },
        {
          "output_type": "stream",
          "text": [
            "100%|██████████| 3/3 [00:00<00:00, 33.99it/s]\n",
            "100%|██████████| 3/3 [00:00<00:00, 37.31it/s]\n",
            "100%|██████████| 3/3 [00:00<00:00, 36.44it/s]\n",
            "  0%|          | 0/3 [00:00<?, ?it/s]"
          ],
          "name": "stderr"
        },
        {
          "output_type": "stream",
          "text": [
            "{'ner': 6.125746959139984e-07}\n",
            "{'ner': 3.685018736351576e-05}\n",
            "{'ner': 4.486946985589728e-06}\n"
          ],
          "name": "stdout"
        },
        {
          "output_type": "stream",
          "text": [
            "100%|██████████| 3/3 [00:00<00:00, 36.74it/s]\n",
            "100%|██████████| 3/3 [00:00<00:00, 36.88it/s]\n",
            "100%|██████████| 3/3 [00:00<00:00, 33.29it/s]\n",
            "  0%|          | 0/3 [00:00<?, ?it/s]"
          ],
          "name": "stderr"
        },
        {
          "output_type": "stream",
          "text": [
            "{'ner': 1.1320375635270752e-05}\n",
            "{'ner': 7.147047069998807e-08}\n",
            "{'ner': 7.072801606382014e-06}\n"
          ],
          "name": "stdout"
        },
        {
          "output_type": "stream",
          "text": [
            "100%|██████████| 3/3 [00:00<00:00, 35.87it/s]\n",
            "100%|██████████| 3/3 [00:00<00:00, 36.53it/s]\n",
            "100%|██████████| 3/3 [00:00<00:00, 37.26it/s]\n",
            "  0%|          | 0/3 [00:00<?, ?it/s]"
          ],
          "name": "stderr"
        },
        {
          "output_type": "stream",
          "text": [
            "{'ner': 6.015393317443614e-07}\n",
            "{'ner': 1.0332871437098302e-08}\n",
            "{'ner': 9.453372756598404e-07}\n"
          ],
          "name": "stdout"
        },
        {
          "output_type": "stream",
          "text": [
            "100%|██████████| 3/3 [00:00<00:00, 36.54it/s]\n",
            "100%|██████████| 3/3 [00:00<00:00, 36.96it/s]\n",
            "100%|██████████| 3/3 [00:00<00:00, 37.00it/s]\n",
            "  0%|          | 0/3 [00:00<?, ?it/s]"
          ],
          "name": "stderr"
        },
        {
          "output_type": "stream",
          "text": [
            "{'ner': 1.4725850230273883e-05}\n",
            "{'ner': 0.0001848262947284852}\n",
            "{'ner': 1.3865434413102389e-06}\n"
          ],
          "name": "stdout"
        },
        {
          "output_type": "stream",
          "text": [
            "100%|██████████| 3/3 [00:00<00:00, 33.51it/s]\n",
            "100%|██████████| 3/3 [00:00<00:00, 35.77it/s]\n",
            "100%|██████████| 3/3 [00:00<00:00, 36.63it/s]\n",
            "  0%|          | 0/3 [00:00<?, ?it/s]"
          ],
          "name": "stderr"
        },
        {
          "output_type": "stream",
          "text": [
            "{'ner': 4.856015709040853e-09}\n",
            "{'ner': 1.0874855784208067e-08}\n",
            "{'ner': 0.2706799345275852}\n"
          ],
          "name": "stdout"
        },
        {
          "output_type": "stream",
          "text": [
            "100%|██████████| 3/3 [00:00<00:00, 35.79it/s]\n",
            "100%|██████████| 3/3 [00:00<00:00, 36.15it/s]\n",
            "100%|██████████| 3/3 [00:00<00:00, 35.49it/s]\n",
            "  0%|          | 0/3 [00:00<?, ?it/s]"
          ],
          "name": "stderr"
        },
        {
          "output_type": "stream",
          "text": [
            "{'ner': 1.2081168578775941e-07}\n",
            "{'ner': 0.0008447281707978089}\n",
            "{'ner': 1.4036583139932091e-05}\n"
          ],
          "name": "stdout"
        },
        {
          "output_type": "stream",
          "text": [
            "100%|██████████| 3/3 [00:00<00:00, 35.65it/s]\n",
            "100%|██████████| 3/3 [00:00<00:00, 35.12it/s]\n",
            "100%|██████████| 3/3 [00:00<00:00, 34.42it/s]\n",
            "  0%|          | 0/3 [00:00<?, ?it/s]"
          ],
          "name": "stderr"
        },
        {
          "output_type": "stream",
          "text": [
            "{'ner': 5.142629647397201e-08}\n",
            "{'ner': 0.00020446951519048192}\n",
            "{'ner': 7.164342313966741e-05}\n"
          ],
          "name": "stdout"
        },
        {
          "output_type": "stream",
          "text": [
            "100%|██████████| 3/3 [00:00<00:00, 33.77it/s]\n",
            "100%|██████████| 3/3 [00:00<00:00, 34.61it/s]\n",
            "100%|██████████| 3/3 [00:00<00:00, 34.97it/s]\n",
            "  0%|          | 0/3 [00:00<?, ?it/s]"
          ],
          "name": "stderr"
        },
        {
          "output_type": "stream",
          "text": [
            "{'ner': 2.1761898833871147e-06}\n",
            "{'ner': 9.905843742297513e-07}\n",
            "{'ner': 1.0051792822346135e-08}\n"
          ],
          "name": "stdout"
        },
        {
          "output_type": "stream",
          "text": [
            "100%|██████████| 3/3 [00:00<00:00, 34.94it/s]\n",
            "100%|██████████| 3/3 [00:00<00:00, 36.72it/s]\n",
            "100%|██████████| 3/3 [00:00<00:00, 37.46it/s]\n",
            "  0%|          | 0/3 [00:00<?, ?it/s]"
          ],
          "name": "stderr"
        },
        {
          "output_type": "stream",
          "text": [
            "{'ner': 0.00021411247041190347}\n",
            "{'ner': 3.549238299726795e-05}\n",
            "{'ner': 9.969806526858837e-07}\n"
          ],
          "name": "stdout"
        },
        {
          "output_type": "stream",
          "text": [
            "100%|██████████| 3/3 [00:00<00:00, 34.61it/s]\n",
            "100%|██████████| 3/3 [00:00<00:00, 34.89it/s]\n",
            "100%|██████████| 3/3 [00:00<00:00, 36.17it/s]\n",
            "  0%|          | 0/3 [00:00<?, ?it/s]"
          ],
          "name": "stderr"
        },
        {
          "output_type": "stream",
          "text": [
            "{'ner': 0.0019722550947805697}\n",
            "{'ner': 1.0566166881849238e-07}\n",
            "{'ner': 2.2525544896878526e-09}\n"
          ],
          "name": "stdout"
        },
        {
          "output_type": "stream",
          "text": [
            "\r100%|██████████| 3/3 [00:00<00:00, 35.64it/s]"
          ],
          "name": "stderr"
        },
        {
          "output_type": "stream",
          "text": [
            "{'ner': 1.2817092528369279e-09}\n"
          ],
          "name": "stdout"
        },
        {
          "output_type": "stream",
          "text": [
            "\n"
          ],
          "name": "stderr"
        }
      ]
    },
    {
      "cell_type": "markdown",
      "metadata": {
        "id": "d1CIX4WRBZm8"
      },
      "source": [
        "## Test the trained model"
      ]
    },
    {
      "cell_type": "code",
      "metadata": {
        "id": "Xnh3yNrIBZm8",
        "outputId": "7e5a3a47-2632-40c5-aa74-bb8ca72bed71",
        "colab": {
          "base_uri": "https://localhost:8080/"
        }
      },
      "source": [
        "for text, _ in TRAIN_DATA:\n",
        "    doc = nlp(text)\n",
        "    print('Entities', [(ent.text, ent.label_) for ent in doc.ents])\n",
        "    print('Tokens', [(t.text, t.ent_type_, t.ent_iob) for t in doc])"
      ],
      "execution_count": 28,
      "outputs": [
        {
          "output_type": "stream",
          "text": [
            "Entities [('Tim Cook', 'PERSON')]\n",
            "Tokens [('Who', '', 2), ('is', '', 2), ('Tim', 'PERSON', 3), ('Cook', 'PERSON', 1), ('?', '', 2)]\n",
            "Entities [('Elvin Aghammad', 'PERSON')]\n",
            "Tokens [('Who', '', 2), ('is', '', 2), ('Elvin', 'PERSON', 3), ('Aghammad', 'PERSON', 1), ('?', '', 2)]\n",
            "Entities [('London', 'LOC'), ('Berlin', 'LOC')]\n",
            "Tokens [('I', '', 2), ('like', '', 2), ('London', 'LOC', 3), ('and', '', 2), ('Berlin', 'LOC', 3), ('.', '', 2)]\n"
          ],
          "name": "stdout"
        }
      ]
    },
    {
      "cell_type": "markdown",
      "metadata": {
        "id": "moVEvXLJBZm_"
      },
      "source": [
        "## Save the model"
      ]
    },
    {
      "cell_type": "code",
      "metadata": {
        "id": "hQNzC28sBZm_",
        "outputId": "090a379d-e168-473b-a393-304850103308",
        "colab": {
          "base_uri": "https://localhost:8080/"
        }
      },
      "source": [
        "if output_dir is not None:\n",
        "    output_dir = Path(output_dir)\n",
        "    if not output_dir.exists():\n",
        "        output_dir.mkdir()\n",
        "    nlp.to_disk(output_dir)\n",
        "    print(\"Saved model to\", output_dir)        "
      ],
      "execution_count": 29,
      "outputs": [
        {
          "output_type": "stream",
          "text": [
            "Saved model to C:\\Users\\nithi\\Documents\\ner\n"
          ],
          "name": "stdout"
        }
      ]
    },
    {
      "cell_type": "markdown",
      "metadata": {
        "id": "JVKRv5ELBZnD"
      },
      "source": [
        "## Test the saved model"
      ]
    },
    {
      "cell_type": "code",
      "metadata": {
        "id": "NWoGTGh8BZnD",
        "outputId": "1fc68bca-12ab-4eb7-a0c9-a3caa027c366",
        "colab": {
          "base_uri": "https://localhost:8080/"
        }
      },
      "source": [
        "print(\"Loading from\", output_dir)\n",
        "nlp2 = spacy.load(output_dir)\n",
        "for text, _ in TRAIN_DATA:\n",
        "    doc = nlp2(text)\n",
        "    print('Entities', [(ent.text, ent.label_) for ent in doc.ents])\n",
        "    print('Tokens', [(t.text, t.ent_type_, t.ent_iob) for t in doc])"
      ],
      "execution_count": 30,
      "outputs": [
        {
          "output_type": "stream",
          "text": [
            "Loading from C:\\Users\\nithi\\Documents\\ner\n",
            "Entities [('Tim Cook', 'PERSON')]\n",
            "Tokens [('Who', '', 2), ('is', '', 2), ('Tim', 'PERSON', 3), ('Cook', 'PERSON', 1), ('?', '', 2)]\n",
            "Entities [('Elvin Aghammad', 'PERSON')]\n",
            "Tokens [('Who', '', 2), ('is', '', 2), ('Elvin', 'PERSON', 3), ('Aghammad', 'PERSON', 1), ('?', '', 2)]\n",
            "Entities [('London', 'LOC'), ('Berlin', 'LOC')]\n",
            "Tokens [('I', '', 2), ('like', '', 2), ('London', 'LOC', 3), ('and', '', 2), ('Berlin', 'LOC', 3), ('.', '', 2)]\n"
          ],
          "name": "stdout"
        }
      ]
    }
  ]
}